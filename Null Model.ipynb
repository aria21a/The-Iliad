{
 "cells": [
  {
   "cell_type": "code",
   "execution_count": 4,
   "id": "75a7fd25-f57b-449a-a733-3ac4016c6e09",
   "metadata": {},
   "outputs": [],
   "source": [
    "# Code sourced from \"Real World Networks - Null Models Exercise1\"\n",
    "# Importing the required libraries\n",
    "\n",
    "import numpy as np\n",
    "import networkx as nx\n",
    "import matplotlib.pyplot as plt\n",
    "import matplotlib as mpl\n",
    "%matplotlib inline"
   ]
  },
  {
   "cell_type": "code",
   "execution_count": 14,
   "id": "8953cab8-264b-4c69-93bc-f2fb2d35c78a",
   "metadata": {},
   "outputs": [],
   "source": [
    "# Code sourced from \"Real World Networks - Null Models Exercise1\"\n",
    "# change defaults to be less ugly\n",
    "mpl.rc('xtick', labelsize=14, color=\"#222222\") \n",
    "mpl.rc('ytick', labelsize=14, color=\"#222222\") \n",
    "mpl.rc('font', **{'family':'sans-serif','sans-serif':['Arial']})\n",
    "mpl.rc('font', size=16)\n",
    "mpl.rc('xtick.major', size=6, width=1)\n",
    "mpl.rc('xtick.minor', size=3, width=1)\n",
    "mpl.rc('ytick.major', size=6, width=1)\n",
    "mpl.rc('ytick.minor', size=3, width=1)\n",
    "mpl.rc('axes', linewidth=1, edgecolor=\"#222222\", labelcolor=\"#222222\")\n",
    "mpl.rc('text', usetex=False, color=\"#222222\")"
   ]
  },
  {
   "cell_type": "code",
   "execution_count": 15,
   "id": "2da0ff4f-e9b2-4f21-a758-33eb06f6fcd5",
   "metadata": {},
   "outputs": [],
   "source": [
    "# Import the csv file as a graph\n",
    "G = nx.read_edgelist('./Iliad Data.csv', \n",
    "                        comments='#',\n",
    "                        create_using=nx.Graph(), \n",
    "                        delimiter=',', \n",
    "                        nodetype=str,\n",
    "                        data=[('weight', float), ('label', str)],\n",
    "                        encoding='utf-8')"
   ]
  },
  {
   "cell_type": "code",
   "execution_count": 19,
   "id": "d468458a-4653-4855-8878-0fb34aed8535",
   "metadata": {},
   "outputs": [
    {
     "name": "stdout",
     "output_type": "stream",
     "text": [
      "Average Clustering Coefficient:  0.24050740728149514\n",
      "Average Shortest Path:  3.9614468970299317\n"
     ]
    }
   ],
   "source": [
    "# Code partially sourced from \"Real World Networks - Null Models Exercise1\"\n",
    "\n",
    "# \n",
    "GN = len(G.nodes()) # G.number_of_nodes()\n",
    "max_L = GN*(GN-1)/2\n",
    "actual_L = len(G.edges())\n",
    "p = actual_L/max_L\n",
    "\n",
    "# Get the largest connected component\n",
    "largest_cc = max(nx.connected_components(G), key=len)\n",
    "G_sub = G.subgraph(largest_cc).copy()\n",
    "\n",
    "# Compute the average shortest path length\n",
    "C = np.mean(list(nx.clustering(G_sub).values()))\n",
    "d = nx.average_shortest_path_length(G_sub,weight=\"weight\")\n",
    "\n",
    "print(\"Average Clustering Coefficient: \", C)\n",
    "print(\"Average Shortest Path: \", d)"
   ]
  },
  {
   "cell_type": "code",
   "execution_count": 8,
   "id": "405f77f9-4189-4006-a79d-3996ac508f1f",
   "metadata": {},
   "outputs": [],
   "source": [
    "# Generate 1000 erdos-renyi graphs\n",
    "ER_list = [nx.erdos_renyi_graph(GN, p, directed=False) for i in range(0, 1000)]"
   ]
  },
  {
   "cell_type": "code",
   "execution_count": 12,
   "id": "64b1bcfd-2af0-45a7-af3b-5f29aa2b4f35",
   "metadata": {},
   "outputs": [
    {
     "ename": "KeyboardInterrupt",
     "evalue": "",
     "output_type": "error",
     "traceback": [
      "\u001b[1;31m---------------------------------------------------------------------------\u001b[0m",
      "\u001b[1;31mKeyboardInterrupt\u001b[0m                         Traceback (most recent call last)",
      "Cell \u001b[1;32mIn[12], line 16\u001b[0m\n\u001b[0;32m     13\u001b[0m \u001b[38;5;28;01melse\u001b[39;00m:\n\u001b[0;32m     14\u001b[0m     \u001b[38;5;66;03m# Work with the largest connected component\u001b[39;00m\n\u001b[0;32m     15\u001b[0m     largest_cc \u001b[38;5;241m=\u001b[39m \u001b[38;5;28mmax\u001b[39m(nx\u001b[38;5;241m.\u001b[39mconnected_components(ERG), key\u001b[38;5;241m=\u001b[39m\u001b[38;5;28mlen\u001b[39m)\n\u001b[1;32m---> 16\u001b[0m     G_sub \u001b[38;5;241m=\u001b[39m \u001b[43mERG\u001b[49m\u001b[38;5;241;43m.\u001b[39;49m\u001b[43msubgraph\u001b[49m\u001b[43m(\u001b[49m\u001b[43mlargest_cc\u001b[49m\u001b[43m)\u001b[49m\u001b[38;5;241;43m.\u001b[39;49m\u001b[43mcopy\u001b[49m\u001b[43m(\u001b[49m\u001b[43m)\u001b[49m\n\u001b[0;32m     17\u001b[0m     avg_path_length \u001b[38;5;241m=\u001b[39m nx\u001b[38;5;241m.\u001b[39maverage_shortest_path_length(G_sub, weight\u001b[38;5;241m=\u001b[39m\u001b[38;5;124m\"\u001b[39m\u001b[38;5;124mweight\u001b[39m\u001b[38;5;124m\"\u001b[39m)\n\u001b[0;32m     19\u001b[0m path_length_values\u001b[38;5;241m.\u001b[39mappend(avg_path_length)\n",
      "File \u001b[1;32m~\\AppData\\Local\\Packages\\PythonSoftwareFoundation.Python.3.10_qbz5n2kfra8p0\\LocalCache\\local-packages\\Python310\\site-packages\\networkx\\classes\\graph.py:1663\u001b[0m, in \u001b[0;36mGraph.copy\u001b[1;34m(self, as_view)\u001b[0m\n\u001b[0;32m   1661\u001b[0m G\u001b[38;5;241m.\u001b[39mgraph\u001b[38;5;241m.\u001b[39mupdate(\u001b[38;5;28mself\u001b[39m\u001b[38;5;241m.\u001b[39mgraph)\n\u001b[0;32m   1662\u001b[0m G\u001b[38;5;241m.\u001b[39madd_nodes_from((n, d\u001b[38;5;241m.\u001b[39mcopy()) \u001b[38;5;28;01mfor\u001b[39;00m n, d \u001b[38;5;129;01min\u001b[39;00m \u001b[38;5;28mself\u001b[39m\u001b[38;5;241m.\u001b[39m_node\u001b[38;5;241m.\u001b[39mitems())\n\u001b[1;32m-> 1663\u001b[0m \u001b[43mG\u001b[49m\u001b[38;5;241;43m.\u001b[39;49m\u001b[43madd_edges_from\u001b[49m\u001b[43m(\u001b[49m\n\u001b[0;32m   1664\u001b[0m \u001b[43m    \u001b[49m\u001b[43m(\u001b[49m\u001b[43mu\u001b[49m\u001b[43m,\u001b[49m\u001b[43m \u001b[49m\u001b[43mv\u001b[49m\u001b[43m,\u001b[49m\u001b[43m \u001b[49m\u001b[43mdatadict\u001b[49m\u001b[38;5;241;43m.\u001b[39;49m\u001b[43mcopy\u001b[49m\u001b[43m(\u001b[49m\u001b[43m)\u001b[49m\u001b[43m)\u001b[49m\n\u001b[0;32m   1665\u001b[0m \u001b[43m    \u001b[49m\u001b[38;5;28;43;01mfor\u001b[39;49;00m\u001b[43m \u001b[49m\u001b[43mu\u001b[49m\u001b[43m,\u001b[49m\u001b[43m \u001b[49m\u001b[43mnbrs\u001b[49m\u001b[43m \u001b[49m\u001b[38;5;129;43;01min\u001b[39;49;00m\u001b[43m \u001b[49m\u001b[38;5;28;43mself\u001b[39;49m\u001b[38;5;241;43m.\u001b[39;49m\u001b[43m_adj\u001b[49m\u001b[38;5;241;43m.\u001b[39;49m\u001b[43mitems\u001b[49m\u001b[43m(\u001b[49m\u001b[43m)\u001b[49m\n\u001b[0;32m   1666\u001b[0m \u001b[43m    \u001b[49m\u001b[38;5;28;43;01mfor\u001b[39;49;00m\u001b[43m \u001b[49m\u001b[43mv\u001b[49m\u001b[43m,\u001b[49m\u001b[43m \u001b[49m\u001b[43mdatadict\u001b[49m\u001b[43m \u001b[49m\u001b[38;5;129;43;01min\u001b[39;49;00m\u001b[43m \u001b[49m\u001b[43mnbrs\u001b[49m\u001b[38;5;241;43m.\u001b[39;49m\u001b[43mitems\u001b[49m\u001b[43m(\u001b[49m\u001b[43m)\u001b[49m\n\u001b[0;32m   1667\u001b[0m \u001b[43m\u001b[49m\u001b[43m)\u001b[49m\n\u001b[0;32m   1668\u001b[0m \u001b[38;5;28;01mreturn\u001b[39;00m G\n",
      "File \u001b[1;32m~\\AppData\\Local\\Packages\\PythonSoftwareFoundation.Python.3.10_qbz5n2kfra8p0\\LocalCache\\local-packages\\Python310\\site-packages\\networkx\\classes\\graph.py:1031\u001b[0m, in \u001b[0;36mGraph.add_edges_from\u001b[1;34m(self, ebunch_to_add, **attr)\u001b[0m\n\u001b[0;32m    976\u001b[0m \u001b[38;5;250m\u001b[39m\u001b[38;5;124;03m\"\"\"Add all the edges in ebunch_to_add.\u001b[39;00m\n\u001b[0;32m    977\u001b[0m \n\u001b[0;32m    978\u001b[0m \u001b[38;5;124;03mParameters\u001b[39;00m\n\u001b[1;32m   (...)\u001b[0m\n\u001b[0;32m   1028\u001b[0m \u001b[38;5;124;03m>>> G.add_edges_from(list((5, n) for n in G.nodes))\u001b[39;00m\n\u001b[0;32m   1029\u001b[0m \u001b[38;5;124;03m\"\"\"\u001b[39;00m\n\u001b[0;32m   1030\u001b[0m \u001b[38;5;28;01mfor\u001b[39;00m e \u001b[38;5;129;01min\u001b[39;00m ebunch_to_add:\n\u001b[1;32m-> 1031\u001b[0m     ne \u001b[38;5;241m=\u001b[39m \u001b[38;5;28;43mlen\u001b[39;49m\u001b[43m(\u001b[49m\u001b[43me\u001b[49m\u001b[43m)\u001b[49m\n\u001b[0;32m   1032\u001b[0m     \u001b[38;5;28;01mif\u001b[39;00m ne \u001b[38;5;241m==\u001b[39m \u001b[38;5;241m3\u001b[39m:\n\u001b[0;32m   1033\u001b[0m         u, v, dd \u001b[38;5;241m=\u001b[39m e\n",
      "\u001b[1;31mKeyboardInterrupt\u001b[0m: "
     ]
    }
   ],
   "source": [
    "# Store results for all graphs\n",
    "clustering_values = []\n",
    "path_length_values = []\n",
    "\n",
    "for ERG in ER_list:\n",
    "    # Compute clustering coefficient\n",
    "    clustering_coeff = np.mean(list(nx.clustering(ERG).values()))\n",
    "    clustering_values.append(clustering_coeff)\n",
    "\n",
    "    # Check if the graph is connected\n",
    "    if nx.is_connected(ERG):\n",
    "        avg_path_length = nx.average_shortest_path_length(ERG, weight=\"weight\")\n",
    "    else:\n",
    "        # Work with the largest connected component\n",
    "        largest_cc = max(nx.connected_components(ERG), key=len)\n",
    "        G_sub = ERG.subgraph(largest_cc).copy()\n",
    "        avg_path_length = nx.average_shortest_path_length(G_sub, weight=\"weight\")\n",
    "\n",
    "    path_length_values.append(avg_path_length)\n",
    "\n",
    "# Compute the overall mean and standard deviation\n",
    "overall_avg_clustering = np.mean(clustering_values)\n",
    "overall_std_clustering = np.std(clustering_values)\n",
    "\n",
    "overall_avg_path_length = np.mean(path_length_values)\n",
    "overall_std_path_length = np.std(path_length_values)\n",
    "\n",
    "# Print results\n",
    "print(f\"Overall Clustering Coefficient - Mean: {overall_avg_clustering}, Std: {overall_std_clustering}\")\n",
    "print(f\"Overall Avg Shortest Path Length - Mean: {overall_avg_path_length}, Std: {overall_std_path_length}\")"
   ]
  },
  {
   "cell_type": "code",
   "execution_count": 10,
   "id": "9ddf0b88-a270-4c98-8fcf-757da8ba218f",
   "metadata": {},
   "outputs": [
    {
     "name": "stderr",
     "output_type": "stream",
     "text": [
      "C:\\Users\\ariay\\AppData\\Local\\Temp\\ipykernel_7552\\2004824280.py:14: RuntimeWarning: divide by zero encountered in log10\n",
      "  bin_edges = np.logspace(np.log10(kmin), np.log10(kmax)+1, num=20)\n"
     ]
    },
    {
     "data": {
      "text/plain": [
       "<Figure size 600x400 with 0 Axes>"
      ]
     },
     "metadata": {},
     "output_type": "display_data"
    },
    {
     "data": {
      "image/png": "[encoded data removed]",
      "text/plain": [
       "<Figure size 600x400 with 1 Axes>"
      ]
     },
     "metadata": {},
     "output_type": "display_data"
    }
   ],
   "source": [
    "# Store all degree distributions\n",
    "all_degrees = []\n",
    "\n",
    "# Compute degree distribution for each graph\n",
    "for ERG in ER_list:\n",
    "    degrees = [ERG.degree(n) for n in ERG.nodes()]\n",
    "    all_degrees.extend(degrees)\n",
    "\n",
    "# Plot the aggregated degree distribution\n",
    "plt.figure(figsize=(6, 4))\n",
    "\n",
    "# Compute the density for the combined degree values\n",
    "kmin, kmax = min(all_degrees), max(all_degrees)\n",
    "bin_edges = np.logspace(np.log10(kmin), np.log10(kmax)+1, num=20)\n",
    "\n",
    "\n",
    "# Create a new graph from all degrees combined (just for plotting)\n",
    "G_combined = nx.erdos_renyi_graph(GN, p)  # Placeholder graph\n",
    "for i, degree in enumerate(all_degrees):\n",
    "    G_combined.add_node(i, degree=degree)  # Add nodes with degrees\n",
    "\n",
    "# Plot the degree distribution using your function\n",
    "plot_degree_dist(G_combined)\n",
    "\n",
    "# Show the plot\n",
    "plt.show()"
   ]
  },
  {
   "cell_type": "code",
   "execution_count": 17,
   "id": "e987a2cf-fd60-447b-8761-32a6ae08ca04",
   "metadata": {},
   "outputs": [],
   "source": [
    "# Code sourced from \"Real World Networks - Null Models Exercise1\"\n",
    "\n",
    "# Function to plot a degree distribution graph (P(k) vs k graph)\n",
    "def plot_degree_dist(G):\n",
    "    \n",
    "    degrees = [G.degree(n) for n in G.nodes()]\n",
    "    kmin = min(degrees)\n",
    "    kmax = max(degrees)\n",
    "    \n",
    "    if kmin>0:\n",
    "        bin_edges = np.logspace(np.log10(kmin), np.log10(kmax)+1, num=20)\n",
    "    else:\n",
    "        bin_edges = np.logspace(0, np.log10(kmax)+1, num=20)\n",
    "    density, _ = np.histogram(degrees, bins=bin_edges, density=True)\n",
    "\n",
    "    fig = plt.figure(figsize=(6,4))\n",
    "\n",
    "    log_be = np.log10(bin_edges)\n",
    "    x = 10**((log_be[1:] + log_be[:-1])/2)\n",
    "    plt.loglog(x, density, marker='o', linestyle='none')\n",
    "    plt.xlabel(r\"degree $k$\", fontsize=16)\n",
    "    plt.ylabel(r\"$P(k)$\", fontsize=16)\n",
    "\n",
    "    ax = plt.gca()\n",
    "    ax.spines['right'].set_visible(False)\n",
    "    ax.spines['top'].set_visible(False)\n",
    "    ax.yaxis.set_ticks_position('left')\n",
    "    ax.xaxis.set_ticks_position('bottom')"
   ]
  },
  {
   "cell_type": "code",
   "execution_count": 21,
   "id": "a133a55d-e4dc-4b5e-8217-6b5655beb6b9",
   "metadata": {},
   "outputs": [
    {
     "name": "stdout",
     "output_type": "stream",
     "text": [
      "0.13231943238743663\n",
      "0.0097143486126493\n",
      "3.27694880106737\n",
      "0.031286733466657515\n"
     ]
    }
   ],
   "source": [
    "# Code sourced from \"Real World Networks - Null Models Exercise1\"\n",
    "clustering_DP = []\n",
    "short_path_DP = []\n",
    "\n",
    "for i in range(1000):\n",
    "    DP = G.copy() # the function edits the graph in place\n",
    "    nx.double_edge_swap(DP,nswap=10*G.number_of_edges(),max_tries=100000)\n",
    "    C_DP = np.mean(list(nx.clustering(DP).values()))\n",
    "    if nx.is_connected(DP)==True:\n",
    "        d_DP = nx.average_shortest_path_length(DP,weight=\"weight\")\n",
    "    else:\n",
    "        # Work with the largest connected component\n",
    "        largest_cc = max(nx.connected_components(DP), key=len)\n",
    "        G_sub = DP.subgraph(largest_cc).copy()\n",
    "        d_DP = nx.average_shortest_path_length(G_sub, weight=\"weight\")\n",
    "    clustering_DP.append(C_DP)\n",
    "    short_path_DP.append(d_DP)\n",
    "    \n",
    "print(np.mean(clustering_DP))\n",
    "print(np.std(clustering_DP))\n",
    "\n",
    "print(np.mean(short_path_DP))\n",
    "print(np.std(short_path_DP))"
   ]
  },
  {
   "cell_type": "code",
   "execution_count": 22,
   "id": "a694df3f-1a88-4870-b603-d2ac1ddb32cc",
   "metadata": {},
   "outputs": [
    {
     "data": {
      "image/png": "[encoded data removed]",
      "text/plain": [
       "<Figure size 600x400 with 1 Axes>"
      ]
     },
     "metadata": {},
     "output_type": "display_data"
    }
   ],
   "source": [
    "# Code sourced from \"Real World Networks - Null Models Exercise1\"\n",
    "fig = plt.figure(figsize=(6,4))\n",
    "\n",
    "plt.boxplot([clustering_values,clustering_DP], positions=[1,2])\n",
    "plt.plot(3,C,'r',marker='+',markersize=15)\n",
    "ax = plt.gca()\n",
    "ax.set_xticks([1,2,3],labels=['ER','DP','The Iliad'])\n",
    "plt.ylabel('Clustering')\n",
    "plt.xlim([0.5,3.5])\n",
    "plt.show()"
   ]
  },
  {
   "cell_type": "code",
   "execution_count": 23,
   "id": "eb65d905-3967-45a2-9905-2495c4e88a1c",
   "metadata": {},
   "outputs": [
    {
     "data": {
      "image/png": "[encoded data removed]",
      "text/plain": [
       "<Figure size 600x400 with 1 Axes>"
      ]
     },
     "metadata": {},
     "output_type": "display_data"
    }
   ],
   "source": [
    "# Code sourced from \"Real World Networks - Null Models Exercise1\"\n",
    "fig = plt.figure(figsize=(6,4))\n",
    "\n",
    "plt.boxplot([path_length_values,short_path_DP], positions=[1,2])\n",
    "plt.plot(3,d,'r',marker='+',markersize=15)\n",
    "ax = plt.gca()\n",
    "ax.set_xticks([1,2,3],labels=['ER','DP','The Iliad'])\n",
    "plt.ylabel('Average Path Length')\n",
    "plt.xlim([0.5,3.5])\n",
    "plt.show()"
   ]
  }
 ],
 "metadata": {
  "kernelspec": {
   "display_name": "Python 3 (ipykernel)",
   "language": "python",
   "name": "python3"
  },
  "language_info": {
   "codemirror_mode": {
    "name": "ipython",
    "version": 3
   },
   "file_extension": ".py",
   "mimetype": "text/x-python",
   "name": "python",
   "nbconvert_exporter": "python",
   "pygments_lexer": "ipython3",
   "version": "3.10.11"
  }
 },
 "nbformat": 4,
 "nbformat_minor": 5
}
